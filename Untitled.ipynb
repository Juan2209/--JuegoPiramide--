{
 "cells": [
  {
   "cell_type": "code",
   "execution_count": 1,
   "id": "e8ea4c34-702d-4625-afcc-ca13235f6b6e",
   "metadata": {},
   "outputs": [
    {
     "name": "stdout",
     "output_type": "stream",
     "text": [
      "pygame 2.5.2 (SDL 2.28.3, Python 3.8.8)\n",
      "Hello from the pygame community. https://www.pygame.org/contribute.html\n",
      "No puedes ejecutar el juego, la variable coin debe ser True.\n"
     ]
    }
   ],
   "source": [
    "import pygame\n",
    "import os\n",
    "\n",
    "# Inicializar Pygame\n",
    "pygame.init()\n",
    "\n",
    "# Dimensiones de la ventana\n",
    "ANCHO = 640\n",
    "ALTO = 480\n",
    "\n",
    "# Colores\n",
    "BLANCO = (255, 255, 255)\n",
    "NEGRO = (0, 0, 0)\n",
    "AZUL = (0, 128, 255)\n",
    "ROJO = (255, 0, 0)\n",
    "\n",
    "# Variables\n",
    "coin = True\n",
    "\n",
    "# Crear ventana\n",
    "pantalla = pygame.display.set_mode((ANCHO, ALTO))\n",
    "pygame.display.set_caption(\"Menú Principal\")\n",
    "\n",
    "# Fuente\n",
    "fuente = pygame.font.Font(None, 40)\n",
    "\n",
    "# Función para mostrar texto en la pantalla\n",
    "def mostrar_texto(texto, x, y, color):\n",
    "    superficie = fuente.render(texto, True, color)\n",
    "    pantalla.blit(superficie, (x, y))\n",
    "\n",
    "# Función para ejecutar el juego (sólo si coin es True)\n",
    "def ejecutar_juego():\n",
    "    global coin\n",
    "    if coin:\n",
    "        os.system('python juego.py')\n",
    "    else:\n",
    "        print(\"No puedes ejecutar el juego, la variable coin debe ser True.\")\n",
    "\n",
    "# Función para mostrar el menú\n",
    "def mostrar_menu():\n",
    "    global coin\n",
    "    corriendo = True\n",
    "    while corriendo:\n",
    "        pantalla.fill(NEGRO)\n",
    "\n",
    "        # Mostrar opciones en el menú\n",
    "        mostrar_texto(\"1. Ejecutar juego\", 200, 150, AZUL)\n",
    "        mostrar_texto(\"2. Salir\", 200, 200, AZUL)\n",
    "        mostrar_texto(f\"Coin: {'True' if coin else 'False'}\", 200, 300, ROJO)\n",
    "\n",
    "        # Actualizar la pantalla\n",
    "        pygame.display.flip()\n",
    "\n",
    "        for evento in pygame.event.get():\n",
    "            if evento.type == pygame.QUIT:\n",
    "                corriendo = False\n",
    "            elif evento.type == pygame.KEYDOWN:\n",
    "                if evento.key == pygame.K_1:\n",
    "                    ejecutar_juego()\n",
    "                elif evento.key == pygame.K_2:\n",
    "                    corriendo = False\n",
    "                elif evento.key == pygame.K_c:  # Cambiar el valor de coin presionando 'C'\n",
    "                    coin = not coin\n",
    "\n",
    "    pygame.quit()\n",
    "\n",
    "# Ejecutar el menú\n",
    "if __name__ == \"__main__\":\n",
    "    mostrar_menu()"
   ]
  },
  {
   "cell_type": "code",
   "execution_count": null,
   "id": "29352837-68f9-4525-b0a9-e04dfac31157",
   "metadata": {},
   "outputs": [],
   "source": []
  }
 ],
 "metadata": {
  "kernelspec": {
   "display_name": "Python 3 (ipykernel)",
   "language": "python",
   "name": "python3"
  },
  "language_info": {
   "codemirror_mode": {
    "name": "ipython",
    "version": 3
   },
   "file_extension": ".py",
   "mimetype": "text/x-python",
   "name": "python",
   "nbconvert_exporter": "python",
   "pygments_lexer": "ipython3",
   "version": "3.8.8"
  }
 },
 "nbformat": 4,
 "nbformat_minor": 5
}
